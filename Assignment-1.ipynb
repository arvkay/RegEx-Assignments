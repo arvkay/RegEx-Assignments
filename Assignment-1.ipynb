{
 "cells": [
  {
   "cell_type": "markdown",
   "id": "7e4d5ffe",
   "metadata": {},
   "source": [
    "## Assignment - 1 Pattern Programming"
   ]
  },
  {
   "cell_type": "markdown",
   "id": "8c5da74f",
   "metadata": {},
   "source": [
    "Write code in python to print the following patterns :-\n",
    "\n",
    "**Q1)** *Inverted pyramid pattern with same digit*\n",
    "    \n",
    "    5 5 5 5 5\n",
    "    5 5 5 5\n",
    "    5 5 5\n",
    "    5 5\n",
    "    5"
   ]
  },
  {
   "cell_type": "code",
   "execution_count": 1,
   "id": "41a38d83",
   "metadata": {},
   "outputs": [
    {
     "name": "stdout",
     "output_type": "stream",
     "text": [
      "5 5 5 5 5 \r\n",
      "5 5 5 5 \r\n",
      "5 5 5 \r\n",
      "5 5 \r\n",
      "5 \r\n"
     ]
    }
   ],
   "source": [
    "def pattern_1(n):\n",
    "    for i in range(n, 0, -1):\n",
    "        for j in range(0, i):\n",
    "            print(\"5 \",end=\"\")\n",
    "        print(\"\\r\")\n",
    "pattern_1(5)"
   ]
  },
  {
   "cell_type": "markdown",
   "id": "4e4fe002",
   "metadata": {},
   "source": [
    "**Q2)**  *Inverted half pyramid pattern with number sequence*\n",
    "\n",
    "    0 1 2 3 4 5\n",
    "    0 1 2 3 4 \n",
    "    0 1 2 3\n",
    "    0 1 2\n",
    "    0 1"
   ]
  },
  {
   "cell_type": "code",
   "execution_count": 2,
   "id": "34f74577",
   "metadata": {},
   "outputs": [
    {
     "name": "stdout",
     "output_type": "stream",
     "text": [
      "0 1 2 3 4 5 \r\n",
      "0 1 2 3 4 \r\n",
      "0 1 2 3 \r\n",
      "0 1 2 \r\n",
      "0 1 \r\n"
     ]
    }
   ],
   "source": [
    "def pattern_2(n):\n",
    "    for i in range(n, 0, -1):\n",
    "        for j in range(0, i+1):\n",
    "            print(j,end=\" \")\n",
    "        print(\"\\r\")\n",
    "pattern_2(5)"
   ]
  },
  {
   "cell_type": "markdown",
   "id": "4302b6d0",
   "metadata": {},
   "source": [
    "**Q3)**  *Alternate numbers pattern using while loop*\n",
    "\n",
    "    1\n",
    "    3 3 \n",
    "    5 5 5\n",
    "    7 7 7 7\n",
    "    9 9 9 9 9"
   ]
  },
  {
   "cell_type": "code",
   "execution_count": 3,
   "id": "66d83f55",
   "metadata": {},
   "outputs": [
    {
     "name": "stdout",
     "output_type": "stream",
     "text": [
      "1 \r\n",
      "3 3 \r\n",
      "5 5 5 \r\n",
      "7 7 7 7 \r\n",
      "9 9 9 9 9 \r\n"
     ]
    }
   ],
   "source": [
    "def pattern_3(n):\n",
    "    for i in range(1, n+1):\n",
    "        for j in range(i):\n",
    "            print((i*2)-1,end=\" \")\n",
    "        print(\"\\r\")\n",
    "pattern_3(5)"
   ]
  },
  {
   "cell_type": "markdown",
   "id": "26e56f7a",
   "metadata": {},
   "source": [
    "**Q4)**  *Reverse Pyramid of Numbers*\n",
    "\n",
    "    1\n",
    "    2 1\n",
    "    3 2 1\n",
    "    4 3 2 1\n",
    "    5 4 3 2 1"
   ]
  },
  {
   "cell_type": "code",
   "execution_count": 4,
   "id": "d6adf490",
   "metadata": {},
   "outputs": [
    {
     "name": "stdout",
     "output_type": "stream",
     "text": [
      "1 \r\n",
      "2 1 \r\n",
      "3 2 1 \r\n",
      "4 3 2 1 \r\n",
      "5 4 3 2 1 \r\n"
     ]
    }
   ],
   "source": [
    "def pattern_4(n):\n",
    "    for i in range(1, n+1):\n",
    "        for j in range(i, 0, -1):\n",
    "            print(j,end=\" \")\n",
    "        print(\"\\r\")\n",
    "pattern_4(5)"
   ]
  },
  {
   "cell_type": "markdown",
   "id": "e0c6771b",
   "metadata": {},
   "source": [
    "**Q5)**  *Print reverse number from 10 to 1*\n",
    "\n",
    "    1\n",
    "    3 2\n",
    "    6 5 4\n",
    "    10 9 8 7"
   ]
  },
  {
   "cell_type": "code",
   "execution_count": 5,
   "id": "94ad5396",
   "metadata": {},
   "outputs": [
    {
     "name": "stdout",
     "output_type": "stream",
     "text": [
      "1 \n",
      "3 2 \n",
      "6 5 4 \n",
      "10 9 8 7 \n"
     ]
    }
   ],
   "source": [
    "start = 1\n",
    "stop = 2\n",
    "current_num = stop\n",
    "for row in range(2, 6):\n",
    "    for col in range(start, stop):\n",
    "        current_num -= 1\n",
    "        print(current_num, end=' ')\n",
    "    print(\"\")\n",
    "    start = stop\n",
    "    stop += row\n",
    "    current_num = stop"
   ]
  },
  {
   "cell_type": "markdown",
   "id": "6b4d5257",
   "metadata": {},
   "source": [
    "**Q6)** *Pascal’s triangle pattern using numbers*\n",
    "\n",
    "    1 \n",
    "    1 1 \n",
    "    1 2 1 \n",
    "    1 3 3 1 \n",
    "    1 4 6 4 1 \n",
    "    1 5 10 10 5 1 \n",
    "    1 6 15 20 15 6 1\n"
   ]
  },
  {
   "cell_type": "code",
   "execution_count": 6,
   "id": "a2c24dd1",
   "metadata": {},
   "outputs": [
    {
     "name": "stdout",
     "output_type": "stream",
     "text": [
      "Enter the number of rows 7\n",
      "1 \n",
      "1 1 \n",
      "1 2 1 \n",
      "1 3 3 1 \n",
      "1 4 6 4 1 \n",
      "1 5 10 10 5 1 \n",
      "1 6 15 20 15 6 1 \n"
     ]
    }
   ],
   "source": [
    "def print_pascal_triangle(size):\n",
    "    for i in range(0, size):\n",
    "        for j in range(0, i + 1):\n",
    "            print(decide_number(i, j), end=\" \")\n",
    "        print()\n",
    "\n",
    "\n",
    "def decide_number(n, k):\n",
    "    num = 1\n",
    "    if k > n - k:\n",
    "        k = n - k\n",
    "    for i in range(0, k):\n",
    "        num = num * (n - i)\n",
    "        num = num // (i + 1)\n",
    "    return num\n",
    "\n",
    "rows = int(input(\"Enter the number of rows \"))\n",
    "print_pascal_triangle(rows)"
   ]
  },
  {
   "cell_type": "markdown",
   "id": "28afcd03",
   "metadata": {},
   "source": [
    "**Q7)** *Square pattern with numbers*\n",
    "\n",
    "    1 2 3 4 5\n",
    "    2 2 3 4 5 \n",
    "    3 3 3 4 5 \n",
    "    4 4 4 4 5 \n",
    "    5 5 5 5 5"
   ]
  },
  {
   "cell_type": "code",
   "execution_count": 7,
   "id": "81992d3e",
   "metadata": {},
   "outputs": [
    {
     "name": "stdout",
     "output_type": "stream",
     "text": [
      "Enter the number of rows 5\n",
      "1 2 3 4 5 \n",
      "2 2 3 4 5 \n",
      "3 3 3 4 5 \n",
      "4 4 4 4 5 \n",
      "5 5 5 5 5 \n"
     ]
    }
   ],
   "source": [
    "rows = int(input(\"Enter the number of rows \"))\n",
    "for i in range(1, rows + 1):\n",
    "    for j in range(1, rows + 1):\n",
    "        if j <= i:\n",
    "            print(i, end=' ')\n",
    "        else:\n",
    "            print(j, end=' ')\n",
    "    print()"
   ]
  },
  {
   "cell_type": "markdown",
   "id": "3a6d9191",
   "metadata": {},
   "source": [
    "**Q8)** *Multiplication table pattern*\n",
    "\n",
    "    1 \n",
    "    2 4 \n",
    "    3 6 9 \n",
    "    4 8 12 16 \n",
    "    5 10 15 20 25 \n",
    "    6 12 18 24 30 36 \n",
    "    7 14 21 28 35 42 49 \n",
    "    8 16 24 32 40 48 56 64"
   ]
  },
  {
   "cell_type": "code",
   "execution_count": 8,
   "id": "b03e6f18",
   "metadata": {},
   "outputs": [
    {
     "name": "stdout",
     "output_type": "stream",
     "text": [
      "Enter the number of rows 8\n",
      "1  \n",
      "2  4  \n",
      "3  6  9  \n",
      "4  8  12  16  \n",
      "5  10  15  20  25  \n",
      "6  12  18  24  30  36  \n",
      "7  14  21  28  35  42  49  \n",
      "8  16  24  32  40  48  56  64  \n"
     ]
    }
   ],
   "source": [
    "rows = int(input(\"Enter the number of rows \"))\n",
    "for i in range(1, rows + 1):\n",
    "    for j in range(1, i + 1):\n",
    "        square = i * j\n",
    "        print(i * j, end='  ')\n",
    "    print()"
   ]
  },
  {
   "cell_type": "markdown",
   "id": "4bc19dce",
   "metadata": {},
   "source": [
    "**Q9)** *Downward full Pyramid Pattern of star*\n",
    "\n",
    "    * * * * * * \n",
    "     * * * * * \n",
    "      * * * * \n",
    "     ` * * * \n",
    "        * * \n",
    "         * "
   ]
  },
  {
   "cell_type": "code",
   "execution_count": 10,
   "id": "f618c678",
   "metadata": {},
   "outputs": [
    {
     "name": "stdout",
     "output_type": "stream",
     "text": [
      "Enter the number of rows 5\n",
      "        * * * * * * \n",
      "         * * * * * \n",
      "          * * * * \n",
      "           * * * \n",
      "            * * \n",
      "             * \n"
     ]
    }
   ],
   "source": [
    "rows = int(input(\"Enter the (n-1) to print n rows \"))\n",
    "k = 2 * rows - 2\n",
    "for i in range(rows, -1, -1):\n",
    "    for j in range(k, 0, -1):\n",
    "        print(end=\" \")\n",
    "    k = k + 1\n",
    "    for j in range(0, i + 1):\n",
    "        print(\"*\", end=\" \")\n",
    "    print(\"\")"
   ]
  },
  {
   "cell_type": "markdown",
   "id": "ec8b6d26",
   "metadata": {},
   "source": [
    "**Q10)** *Equilateral triangle pattern of star*\n",
    "\n",
    "            * \n",
    "           * * \n",
    "          * * * \n",
    "         * * * * \n",
    "        * * * * * \n",
    "       * * * * * *\n",
    "      * * * * * * *"
   ]
  },
  {
   "cell_type": "code",
   "execution_count": 12,
   "id": "3594fc0d",
   "metadata": {},
   "outputs": [
    {
     "name": "stdout",
     "output_type": "stream",
     "text": [
      "Enter the size of the equilateral triangle 7\n",
      "            *   \n",
      "           *  *   \n",
      "          *  *  *   \n",
      "         *  *  *  *   \n",
      "        *  *  *  *  *   \n",
      "       *  *  *  *  *  *   \n",
      "      *  *  *  *  *  *  *   \n"
     ]
    }
   ],
   "source": [
    "size = int(input(\"Enter the size of the equilateral triangle \"))\n",
    "m = (2 * size) - 2\n",
    "for i in range(0, size):\n",
    "    for j in range(0, m):\n",
    "        print(end=\" \")\n",
    "    m = m - 1\n",
    "    for j in range(0, i + 1):\n",
    "        print(\"* \", end=' ')\n",
    "    print(\" \")"
   ]
  },
  {
   "cell_type": "markdown",
   "id": "d06e4a31",
   "metadata": {},
   "source": [
    "**Q11)** *Print two pyramids of stars*\n",
    "\n",
    "    * \n",
    "    * * \n",
    "    * * * \n",
    "    * * * * \n",
    "    * * * * * \n",
    "    * * * * * * \n",
    "    \n",
    "    * * * * * * \n",
    "    * * * * * \n",
    "    * * * * \n",
    "    * * * \n",
    "    * * \n",
    "    * "
   ]
  },
  {
   "cell_type": "code",
   "execution_count": 13,
   "id": "b7e5b399",
   "metadata": {},
   "outputs": [
    {
     "name": "stdout",
     "output_type": "stream",
     "text": [
      "Enter the max rows which you want to mirror: 6\n",
      "*  \n",
      "* *  \n",
      "* * *  \n",
      "* * * *  \n",
      "* * * * *  \n",
      "* * * * * *  \n",
      " \n",
      "* * * * * *  \n",
      "* * * * *  \n",
      "* * * *  \n",
      "* * *  \n",
      "* *  \n",
      "*  \n",
      " \n"
     ]
    }
   ],
   "source": [
    "rows = int(input(\"Enter the max rows which you want to mirror: \"))\n",
    "for i in range(0, rows):\n",
    "    for j in range(0, i + 1):\n",
    "        print(\"*\", end=' ')\n",
    "    print(\" \")\n",
    "\n",
    "print(\" \")\n",
    "\n",
    "for i in range(rows + 1, 0, -1):\n",
    "    for j in range(0, i - 1):\n",
    "        print(\"*\", end=' ')\n",
    "    print(\" \")"
   ]
  },
  {
   "cell_type": "markdown",
   "id": "d2587c6e",
   "metadata": {},
   "source": [
    "**Q12)** *Right start pattern of star*\n",
    "\n",
    "    * \n",
    "    * * \n",
    "    * * * \n",
    "    * * * * \n",
    "    * * * * * \n",
    "    * * * * \n",
    "    * * * \n",
    "    * * \n",
    "    * "
   ]
  },
  {
   "cell_type": "code",
   "execution_count": 14,
   "id": "73ea36b0",
   "metadata": {},
   "outputs": [
    {
     "name": "stdout",
     "output_type": "stream",
     "text": [
      "Enter the max rows which you want to mirror: 5\n",
      "* \n",
      "* * \n",
      "* * * \n",
      "* * * * \n",
      "* * * * * \n",
      "* * * * \n",
      "* * * \n",
      "* * \n",
      "* \n",
      "\n"
     ]
    }
   ],
   "source": [
    "rows = int(input(\"Enter the max rows which you want to mirror: \"))\n",
    "for i in range(0, rows):\n",
    "    for j in range(0, i + 1):\n",
    "        print(\"*\", end=' ')\n",
    "    print(\"\\r\")\n",
    "\n",
    "for i in range(rows, 0, -1):\n",
    "    for j in range(0, i - 1):\n",
    "        print(\"*\", end=' ')\n",
    "    print(\"\\r\")"
   ]
  },
  {
   "cell_type": "markdown",
   "id": "0d51d126",
   "metadata": {},
   "source": [
    "**Q13)** *Left triangle pascal’s pattern*\n",
    "\n",
    "            * \n",
    "          * * \n",
    "        * * * \n",
    "      * * * * \n",
    "    * * * * * \n",
    "      * * * * \n",
    "        * * * \n",
    "          * * \n",
    "            *"
   ]
  },
  {
   "cell_type": "code",
   "execution_count": 15,
   "id": "264d84ef",
   "metadata": {},
   "outputs": [
    {
     "name": "stdout",
     "output_type": "stream",
     "text": [
      "Enter the max rows which you want to mirror: 5\n",
      "        * \n",
      "      * * \n",
      "    * * * \n",
      "  * * * * \n",
      "* * * * * \n",
      "  * * * * \n",
      "    * * * \n",
      "      * * \n",
      "        * \n",
      "          \n"
     ]
    }
   ],
   "source": [
    "rows = int(input(\"Enter the max rows which you want to mirror: \"))\n",
    "i = 1\n",
    "while i <= rows:\n",
    "    j = i\n",
    "    while j < rows:\n",
    "        print(' ', end=' ')\n",
    "        j += 1\n",
    "    k = 1\n",
    "    while k <= i:\n",
    "        print('*', end=' ')\n",
    "        k += 1\n",
    "    print()\n",
    "    i += 1\n",
    "\n",
    "i = rows\n",
    "while i >= 1:\n",
    "    j = i\n",
    "    while j <= rows:\n",
    "        print(' ', end=' ')\n",
    "        j += 1\n",
    "    k = 1\n",
    "    while k < i:\n",
    "        print('*', end=' ')\n",
    "        k += 1\n",
    "    print('')\n",
    "    i -= 1"
   ]
  },
  {
   "cell_type": "markdown",
   "id": "a09ca483",
   "metadata": {},
   "source": [
    "**Q14)** *Sandglass pattern of star*\n",
    "\n",
    "    * * * * * \n",
    "     * * * * \n",
    "      * * * \n",
    "       * * \n",
    "        * \n",
    "        * \n",
    "       * * \n",
    "      * * * \n",
    "     * * * * \n",
    "    * * * * * "
   ]
  },
  {
   "cell_type": "code",
   "execution_count": 16,
   "id": "5c1bb997",
   "metadata": {},
   "outputs": [
    {
     "name": "stdout",
     "output_type": "stream",
     "text": [
      "* * * * * \n",
      " * * * * \n",
      "  * * * \n",
      "   * * \n",
      "    * \n",
      "    * \n",
      "   * * \n",
      "  * * * \n",
      " * * * * \n",
      "* * * * * \n"
     ]
    }
   ],
   "source": [
    "rows = 5\n",
    "i = 0\n",
    "while i <= rows - 1:\n",
    "    j = 0\n",
    "    while j < i:\n",
    "        print('', end=' ')\n",
    "        j += 1\n",
    "    k = i\n",
    "    while k <= rows - 1:\n",
    "        print('*', end=' ')\n",
    "        k += 1\n",
    "    print()\n",
    "    i += 1\n",
    "\n",
    "i = rows - 1\n",
    "while i >= 0:\n",
    "    j = 0\n",
    "    while j < i:\n",
    "        print('', end=' ')\n",
    "        j += 1\n",
    "    k = i\n",
    "    while k <= rows - 1:\n",
    "        print('*', end=' ')\n",
    "        k += 1\n",
    "    print('')\n",
    "    i -= 1"
   ]
  },
  {
   "cell_type": "markdown",
   "id": "f11baa24",
   "metadata": {},
   "source": [
    "**Q15)** *Pant style pattern of stars*\n",
    "\n",
    "    ****************\n",
    "    *******__*******\n",
    "    ******____******\n",
    "    *****______*****\n",
    "    ****________****\n",
    "    ***__________***\n",
    "    **____________**\n",
    "    *______________*"
   ]
  },
  {
   "cell_type": "code",
   "execution_count": 17,
   "id": "c0a940c7",
   "metadata": {},
   "outputs": [
    {
     "name": "stdout",
     "output_type": "stream",
     "text": [
      "**************\n",
      "******__******\n",
      "*****____*****\n",
      "****______****\n",
      "***________***\n",
      "**__________**\n",
      "*____________*\n"
     ]
    }
   ],
   "source": [
    "rows = 14\n",
    "print(\"*\" * rows, end=\"\\n\")\n",
    "i = (rows // 2) - 1\n",
    "j = 2\n",
    "while i != 0:\n",
    "    while j <= (rows - 2):\n",
    "        print(\"*\" * i, end=\"\")\n",
    "        print(\"_\" * j, end=\"\")\n",
    "        print(\"*\" * i, end=\"\\n\")\n",
    "        i = i - 1\n",
    "        j = j + 2"
   ]
  },
  {
   "cell_type": "markdown",
   "id": "f4467c81",
   "metadata": {},
   "source": [
    "`**References:** \n",
    "1. https://www.geeksforgeeks.org/programs-printing-pyramid-patterns-python/\n",
    "2. https://www.javatpoint.com/how-to-print-pattern-in-python\n",
    "3. https://www.programiz.com/python-programming/examples/pyramid-patterns\n",
    "4. https://pynative.com/print-pattern-python-examples/"
   ]
  }
 ],
 "metadata": {
  "kernelspec": {
   "display_name": "Python 3",
   "language": "python",
   "name": "python3"
  },
  "language_info": {
   "codemirror_mode": {
    "name": "ipython",
    "version": 3
   },
   "file_extension": ".py",
   "mimetype": "text/x-python",
   "name": "python",
   "nbconvert_exporter": "python",
   "pygments_lexer": "ipython3",
   "version": "3.8.8"
  }
 },
 "nbformat": 4,
 "nbformat_minor": 5
}
