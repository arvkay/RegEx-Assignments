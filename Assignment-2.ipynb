{
 "cells": [
  {
   "cell_type": "markdown",
   "id": "ec7ea83a",
   "metadata": {},
   "source": [
    "## Assignment - 2\n",
    "\n",
    "- By Arvind K"
   ]
  },
  {
   "cell_type": "markdown",
   "id": "27fe1004",
   "metadata": {},
   "source": [
    "**Q1)** You need to take two input as number from the user and find out the Greatest Common Divisor of\n",
    "those two number and save it in a C drive with the file name as gcd_data.txt"
   ]
  },
  {
   "cell_type": "code",
   "execution_count": 1,
   "id": "8687d68f",
   "metadata": {},
   "outputs": [
    {
     "name": "stdout",
     "output_type": "stream",
     "text": [
      "Enter the first number:48\n",
      "Enter the second number:60\n",
      "The gcd of 48 and 60 is: 12\n"
     ]
    }
   ],
   "source": [
    "def gcd(a, b):\n",
    "    if(b == 0):\n",
    "        return a\n",
    "    else:\n",
    "        return gcd(b, a % b)\n",
    "    \n",
    "a = int(input(\"Enter the first number:\"))\n",
    "b = int(input(\"Enter the second number:\"))\n",
    "c = gcd(a,b)  \n",
    "# prints 12\n",
    "print(\"The gcd of\",a,\"and\",b, \"is:\",c)"
   ]
  },
  {
   "cell_type": "code",
   "execution_count": 2,
   "id": "7b5bc88b",
   "metadata": {},
   "outputs": [
    {
     "name": "stdout",
     "output_type": "stream",
     "text": [
      "12\n"
     ]
    }
   ],
   "source": [
    "with open(\"C:\\\\Users\\\\HP\\\\Downloads\\\\ReGEx Course\\gcd_data.txt\",\"w\") as file:\n",
    "    file.write(str(c))\n",
    "    \n",
    "with open(\"C:\\\\Users\\\\HP\\\\Downloads\\\\ReGEx Course\\gcd_data.txt\",\"r\") as file:\n",
    "    print(file.read())"
   ]
  },
  {
   "cell_type": "markdown",
   "id": "8f6ee885",
   "metadata": {},
   "source": [
    "**Q2)** Open a file in a read & write format make sure you make the write process from the byte position of \n",
    "your pointer from 15. Then, validate that by going through the file again."
   ]
  },
  {
   "cell_type": "code",
   "execution_count": 3,
   "id": "2ed228a2",
   "metadata": {},
   "outputs": [],
   "source": [
    "with open(r\"C:\\\\Users\\\\HP\\\\Downloads\\\\ReGEx Course\\gcd_data.txt\",\"w+\") as file:\n",
    "    file.seek(15)\n",
    "    file.write(\"Writing some text..\")"
   ]
  },
  {
   "cell_type": "markdown",
   "id": "6962ebc2",
   "metadata": {},
   "source": [
    "**Q3)** You need a create a function which will check the validation of user password. Conditions are:\n",
    "- password should have at least 1 capital letter\n",
    "- 1 smaller letter\n",
    "- Any special character only like !@#$%^\n",
    "- Length of the password should be minimum 6 character & maximum 15 character\n",
    "\n",
    "Print a suitable message in case all the conditions are true other any other message\n"
   ]
  },
  {
   "cell_type": "code",
   "execution_count": 4,
   "id": "c97f4fca",
   "metadata": {},
   "outputs": [
    {
     "name": "stdout",
     "output_type": "stream",
     "text": [
      "Enter your password:Hello@1234\n",
      "Password accepted!\n"
     ]
    }
   ],
   "source": [
    "import re\n",
    "password = input(\"Enter your password:\")\n",
    "def password_validate(password):\n",
    "    if password.islower() is False and password.isupper() is True:\n",
    "        print('Password must contain at least 1 small letter')\n",
    "    elif password.islower() is True and password.isupper() is False:\n",
    "        print('Password must contain at least 1 capital letter')\n",
    "    elif re.search('[a-zA-Z]+',password) is None:\n",
    "        print(\"Password must contain at least one capital and one small letter\")\n",
    "    elif len(password)<6:\n",
    "        print('Password must be at least 6 characters long')\n",
    "    elif len(password)>15:\n",
    "        print('Password cannot be more than 15 characters long')\n",
    "    else:\n",
    "        for special_char in re.sub('[^\\W_]+', '', password):\n",
    "            if special_char not in [\"!\",\"@\",\"#\",\"$\",\"%\",\"^\"]:\n",
    "                print(\"Only !@#$%^ special characters are allowed\")\n",
    "            else:\n",
    "                print(\"Password accepted!\")\n",
    "\n",
    "password_validate(password)        "
   ]
  },
  {
   "cell_type": "markdown",
   "id": "5baeab59",
   "metadata": {},
   "source": [
    "**Q4)** Write a Python Program to generate 26 text files named A.txt, B.txt and so on up to Z.txt"
   ]
  },
  {
   "cell_type": "code",
   "execution_count": 5,
   "id": "da3c1890",
   "metadata": {},
   "outputs": [],
   "source": [
    "import string, os\n",
    "if not os.path.exists(\"letters\"):\n",
    "    os.makedirs(\"letters\")\n",
    "for letter in string.ascii_uppercase:\n",
    "    with open(letter + \".txt\", \"w\") as f:\n",
    "        f.writelines(letter)"
   ]
  },
  {
   "cell_type": "markdown",
   "id": "c78afced",
   "metadata": {},
   "source": [
    "**Q5)** Write a Python program to combine each line from the first file with the corresponding line in the \n",
    "second file and save it into the Third file."
   ]
  },
  {
   "cell_type": "code",
   "execution_count": 6,
   "id": "2900b5ba",
   "metadata": {},
   "outputs": [
    {
     "name": "stdout",
     "output_type": "stream",
     "text": [
      "First line in F1.\n",
      "Second line in F2\n"
     ]
    }
   ],
   "source": [
    "with open('file1.txt','w+') as f1, open('file2.txt','w+') as f2, open('file3.txt','w+') as f3:\n",
    "    f1.write(\"First line in F1.\\nSecond line in F1\")\n",
    "    f2.write(\"First line in F2.\\nSecond line in F2\")\n",
    "    f1.seek(0)\n",
    "    f2.seek(0)\n",
    "    f3.write(f1.readlines()[0]+f2.readlines()[1])\n",
    "    f3.seek(0)\n",
    "    print(f3.read())"
   ]
  },
  {
   "cell_type": "markdown",
   "id": "5425c2f0",
   "metadata": {},
   "source": [
    "**Q6)** You have to run your program at 12:00am, Date: 20th November, 2021 and wish your friend a “Happy \n",
    "Birthday” through your whatsApp.\n",
    "#HINT\n",
    "- You can use Datetime module or time module and web browser for the same\n",
    "- Use of List\n",
    "- Use of conditional statements and loops."
   ]
  },
  {
   "cell_type": "code",
   "execution_count": null,
   "id": "618a3a02",
   "metadata": {},
   "outputs": [],
   "source": []
  },
  {
   "cell_type": "markdown",
   "id": "252a1cfb",
   "metadata": {},
   "source": [
    "**References**:\n",
    "1. https://www.geeksforgeeks.org/python-program-to-find-the-gcd-of-two-numbers/\n",
    "2. https://www.geeksforgeeks.org/python-remove-all-characters-except-letters-and-numbers/\"\n",
    "3. https://www.w3resource.com/python-exercises/file/python-io-exercise-20.php\n",
    "4. https://www.codegrepper.com/code-examples/python/Python+program+to+combine+each+line+from+first+file+with+the+corresponding+line+in+second+file"
   ]
  }
 ],
 "metadata": {
  "kernelspec": {
   "display_name": "Python 3",
   "language": "python",
   "name": "python3"
  },
  "language_info": {
   "codemirror_mode": {
    "name": "ipython",
    "version": 3
   },
   "file_extension": ".py",
   "mimetype": "text/x-python",
   "name": "python",
   "nbconvert_exporter": "python",
   "pygments_lexer": "ipython3",
   "version": "3.8.8"
  }
 },
 "nbformat": 4,
 "nbformat_minor": 5
}
